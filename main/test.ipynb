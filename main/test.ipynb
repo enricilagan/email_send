{
 "cells": [
  {
   "cell_type": "code",
   "execution_count": 5,
   "metadata": {},
   "outputs": [
    {
     "name": "stdout",
     "output_type": "stream",
     "text": [
      "/Users/enricilagan/Github/email_send/main\n"
     ]
    }
   ],
   "source": [
    "import smtplib\n",
    "from email.mime.text import MIMEText\n",
    "from email.mime.multipart import MIMEMultipart\n",
    "import pandas as pd\n",
    "import gspread as gs\n",
    "import json\n",
    "from datetime import timedelta, date, datetime as dt\n",
    "import os\n",
    "\n",
    "print(os.getcwd())\n",
    "\n",
    "today = dt.now().strftime(\"%m/%d/%Y %I:%M%p\")\n",
    "t_stamp = dt.now().strftime(\"%Y-%m-%d %H:%M:%S\")\n",
    "\n",
    "parameters_json = open(\"../.creds/parameters.json\")\n",
    "json_ = \"../.creds/budgetwithme.json\"\n",
    "params = json.load(parameters_json)\n",
    "\n",
    "url = \"https://docs.google.com/spreadsheets/d/{0}/edit?usp=sharing\".format(params['sheet_id'])\n",
    "\n"
   ]
  },
  {
   "cell_type": "code",
   "execution_count": 84,
   "metadata": {},
   "outputs": [],
   "source": [
    "gc = gs.service_account(filename=json_)\n",
    "sh = gc.open_by_url(url)\n"
   ]
  },
  {
   "cell_type": "code",
   "execution_count": 97,
   "metadata": {},
   "outputs": [],
   "source": [
    "budget_ws = sh.worksheet('Summary')\n",
    "budget = pd.DataFrame(budget_ws.get(\"B3:D7\"))\n",
    "\n",
    "df_budget = budget.iloc[2:,:].reset_index(drop=True)\n",
    "df_budget.columns = ['Category', 'Budget', 'Remaining']\n",
    "df_budget['Budget'] = df_budget['Budget'].str.replace(\"$\", \"\", regex=False).str\\\n",
    "    .replace(\",\", \"\", regex=False).astype(float)\n",
    "df_budget['Remaining'] = df_budget['Remaining'].str.replace(\"$\", \"\", regex=False).str\\\n",
    "    .replace(\",\", \"\", regex=False).astype(float).round(2)\n",
    "#df_budget['Budget'] = \"$\" + df_budget['Budget'].astype(str)\n",
    "#df_budget['Budget'] = \"$\" + df_budget['Budget'].astype(str)\n"
   ]
  },
  {
   "cell_type": "code",
   "execution_count": 113,
   "metadata": {},
   "outputs": [
    {
     "data": {
      "text/html": [
       "<div>\n",
       "<style scoped>\n",
       "    .dataframe tbody tr th:only-of-type {\n",
       "        vertical-align: middle;\n",
       "    }\n",
       "\n",
       "    .dataframe tbody tr th {\n",
       "        vertical-align: top;\n",
       "    }\n",
       "\n",
       "    .dataframe thead th {\n",
       "        text-align: right;\n",
       "    }\n",
       "</style>\n",
       "<table border=\"1\" class=\"dataframe\">\n",
       "  <thead>\n",
       "    <tr style=\"text-align: right;\">\n",
       "      <th></th>\n",
       "      <th>Category</th>\n",
       "      <th>Budget</th>\n",
       "      <th>Remaining</th>\n",
       "    </tr>\n",
       "  </thead>\n",
       "  <tbody>\n",
       "    <tr>\n",
       "      <th>0</th>\n",
       "      <td>Funds - Marian</td>\n",
       "      <td>100.0</td>\n",
       "      <td>10.69</td>\n",
       "    </tr>\n",
       "    <tr>\n",
       "      <th>1</th>\n",
       "      <td>Funds - Enric</td>\n",
       "      <td>80.0</td>\n",
       "      <td>-5.90</td>\n",
       "    </tr>\n",
       "    <tr>\n",
       "      <th>2</th>\n",
       "      <td>Funds - Ethan</td>\n",
       "      <td>120.0</td>\n",
       "      <td>11.98</td>\n",
       "    </tr>\n",
       "  </tbody>\n",
       "</table>\n",
       "</div>"
      ],
      "text/plain": [
       "         Category  Budget  Remaining\n",
       "0  Funds - Marian   100.0      10.69\n",
       "1   Funds - Enric    80.0      -5.90\n",
       "2   Funds - Ethan   120.0      11.98"
      ]
     },
     "execution_count": 113,
     "metadata": {},
     "output_type": "execute_result"
    }
   ],
   "source": [
    "df_budget"
   ]
  },
  {
   "cell_type": "code",
   "execution_count": 134,
   "metadata": {},
   "outputs": [
    {
     "data": {
      "text/html": [
       "<style type=\"text/css\">\n",
       "#T_44ded_row0_col0, #T_44ded_row0_col1, #T_44ded_row0_col2 {\n",
       "  background-color: blue;\n",
       "}\n",
       "#T_44ded_row1_col0, #T_44ded_row1_col1, #T_44ded_row1_col2 {\n",
       "  background-color: rgb(218, 79, 79);\n",
       "}\n",
       "#T_44ded_row2_col0, #T_44ded_row2_col1, #T_44ded_row2_col2 {\n",
       "  background-color: green;\n",
       "}\n",
       "</style>\n",
       "<table id=\"T_44ded\">\n",
       "  <thead>\n",
       "    <tr>\n",
       "      <th class=\"blank level0\" >&nbsp;</th>\n",
       "      <th id=\"T_44ded_level0_col0\" class=\"col_heading level0 col0\" >Category</th>\n",
       "      <th id=\"T_44ded_level0_col1\" class=\"col_heading level0 col1\" >Budget</th>\n",
       "      <th id=\"T_44ded_level0_col2\" class=\"col_heading level0 col2\" >Remaining</th>\n",
       "    </tr>\n",
       "  </thead>\n",
       "  <tbody>\n",
       "    <tr>\n",
       "      <th id=\"T_44ded_level0_row0\" class=\"row_heading level0 row0\" >0</th>\n",
       "      <td id=\"T_44ded_row0_col0\" class=\"data row0 col0\" >Funds - Marian</td>\n",
       "      <td id=\"T_44ded_row0_col1\" class=\"data row0 col1\" >100.000000</td>\n",
       "      <td id=\"T_44ded_row0_col2\" class=\"data row0 col2\" >10.690000</td>\n",
       "    </tr>\n",
       "    <tr>\n",
       "      <th id=\"T_44ded_level0_row1\" class=\"row_heading level0 row1\" >1</th>\n",
       "      <td id=\"T_44ded_row1_col0\" class=\"data row1 col0\" >Funds - Enric</td>\n",
       "      <td id=\"T_44ded_row1_col1\" class=\"data row1 col1\" >80.000000</td>\n",
       "      <td id=\"T_44ded_row1_col2\" class=\"data row1 col2\" >-5.900000</td>\n",
       "    </tr>\n",
       "    <tr>\n",
       "      <th id=\"T_44ded_level0_row2\" class=\"row_heading level0 row2\" >2</th>\n",
       "      <td id=\"T_44ded_row2_col0\" class=\"data row2 col0\" >Funds - Ethan</td>\n",
       "      <td id=\"T_44ded_row2_col1\" class=\"data row2 col1\" >120.000000</td>\n",
       "      <td id=\"T_44ded_row2_col2\" class=\"data row2 col2\" >11.980000</td>\n",
       "    </tr>\n",
       "  </tbody>\n",
       "</table>\n"
      ],
      "text/plain": [
       "<pandas.io.formats.style.Styler at 0x11e0f6af0>"
      ]
     },
     "execution_count": 134,
     "metadata": {},
     "output_type": "execute_result"
    }
   ],
   "source": [
    "def highlights(s, budget, remaining):\n",
    "    is_red = pd.Series(data=False, index=s.index)\n",
    "    if s.loc[remaining]/s.loc[budget] < 0:\n",
    "        color = 'rgb(222, 37, 37)'\n",
    "    elif s.loc[remaining]/s.loc[budget] < 0.25:\n",
    "        color = 'lightcoral'\n",
    "    elif s.loc[remaining]/s.loc[budget] < 0.5:\n",
    "        color = 'lightgoldenyellow'\n",
    "    elif s.loc[remaining]/s.loc[budget] < 0.75:\n",
    "        color = 'rgb(237, 184, 87)'\n",
    "    else:\n",
    "        color = 'rgb(65, 206, 74)'\n",
    "    #ret = []\n",
    "    #for v in is_red:\n",
    "    #    if v[budget]:\n",
    "    #        ret.append('background-color: rgb(218, 79, 79)') \n",
    "    #    else:\n",
    "    #        ret.append('')\n",
    "    return [f'background-color: {color}' for v in is_red]\n",
    "\n",
    "#rgb(227, 37, 37)\n",
    "df = df_budget.style.apply(highlights, budget=\"Budget\",remaining=\"Remaining\", axis=1)\n",
    "df"
   ]
  },
  {
   "cell_type": "code",
   "execution_count": 129,
   "metadata": {},
   "outputs": [],
   "source": [
    "is_red = pd.Series(data=False)\n",
    "is_red[100] = False\n",
    "\n"
   ]
  },
  {
   "cell_type": "code",
   "execution_count": 130,
   "metadata": {},
   "outputs": [
    {
     "data": {
      "text/plain": [
       "['', '']"
      ]
     },
     "execution_count": 130,
     "metadata": {},
     "output_type": "execute_result"
    }
   ],
   "source": [
    "['background-color: rgb(218, 79, 79)' if is_red[100] else '' for v in is_red]"
   ]
  },
  {
   "cell_type": "code",
   "execution_count": null,
   "metadata": {},
   "outputs": [],
   "source": []
  }
 ],
 "metadata": {
  "kernelspec": {
   "display_name": "Python 3.9.1 ('.venv': venv)",
   "language": "python",
   "name": "python3"
  },
  "language_info": {
   "codemirror_mode": {
    "name": "ipython",
    "version": 3
   },
   "file_extension": ".py",
   "mimetype": "text/x-python",
   "name": "python",
   "nbconvert_exporter": "python",
   "pygments_lexer": "ipython3",
   "version": "3.9.1"
  },
  "orig_nbformat": 4,
  "vscode": {
   "interpreter": {
    "hash": "9360c7f2d5ab7e2b69867c7f3bc31fceb17a5f8220657e310663ad623c8da39f"
   }
  }
 },
 "nbformat": 4,
 "nbformat_minor": 2
}
